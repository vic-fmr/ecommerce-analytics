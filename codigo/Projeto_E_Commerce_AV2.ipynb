{
  "nbformat": 4,
  "nbformat_minor": 0,
  "metadata": {
    "colab": {
      "provenance": []
    },
    "kernelspec": {
      "name": "python3",
      "display_name": "Python 3"
    },
    "language_info": {
      "name": "python"
    }
  },
  "cells": [
    {
      "cell_type": "code",
      "execution_count": null,
      "metadata": {
        "colab": {
          "base_uri": "https://localhost:8080/"
        },
        "id": "vcHVb4kyWvF5",
        "outputId": "5c69b831-4c13-48f1-bfee-3a2c78f5ee68"
      },
      "outputs": [
        {
          "output_type": "stream",
          "name": "stdout",
          "text": [
            "Iniciando projeto de estatistica e probabilidade!\n"
          ]
        }
      ],
      "source": [
        "print(\"Iniciando projeto de estatistica e probabilidade!\")"
      ]
    }
  ]
}